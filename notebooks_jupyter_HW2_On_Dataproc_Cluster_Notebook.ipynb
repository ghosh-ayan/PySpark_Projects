{
 "cells": [
  {
   "cell_type": "code",
   "execution_count": 1,
   "id": "33cd33c7",
   "metadata": {},
   "outputs": [],
   "source": [
    "from pyspark.sql import SparkSession\n",
    "from pyspark import SparkConf, SparkContext\n",
    "from datetime import datetime, date, timedelta\n",
    "from dateutil import relativedelta\n",
    "from pyspark.sql import SQLContext, Row\n",
    "from pyspark.sql.types import *\n",
    "from pyspark.sql.functions import *\n",
    "from pyspark.sql import DataFrame\n",
    "from pyspark.sql.functions import *\n",
    "from pyspark.sql.functions import to_timestamp, to_date\n",
    "from pyspark.sql import functions as F  \n",
    "from pyspark.sql.functions import collect_list, collect_set, concat, first, array_distinct, col, size, expr\n",
    "from pyspark.sql import DataFrame \n",
    "import random\n",
    "import pandas as pd"
   ]
  },
  {
   "cell_type": "code",
   "execution_count": 2,
   "id": "5cf797d3",
   "metadata": {},
   "outputs": [],
   "source": [
    "spark = SparkSession\\\n",
    "        .builder\\\n",
    "        .getOrCreate()"
   ]
  },
  {
   "cell_type": "code",
   "execution_count": 5,
   "id": "14e05906",
   "metadata": {
    "id": "4i1JB8c87Tag"
   },
   "outputs": [
    {
     "name": "stderr",
     "output_type": "stream",
     "text": [
      "                                                                                \r"
     ]
    }
   ],
   "source": [
    "tempData = spark.read.csv('gs://bax423hw2/GlobalLandTemperatures_GlobalLandTemperaturesByCountry.csv', header = True, inferSchema = True)"
   ]
  },
  {
   "cell_type": "code",
   "execution_count": 6,
   "id": "bc38a260",
   "metadata": {},
   "outputs": [],
   "source": [
    "CO2Data = spark.read.csv('gs://bax423hw2/CO2 emissions per capita per country.csv', header = True, inferSchema = True)"
   ]
  },
  {
   "cell_type": "code",
   "execution_count": 7,
   "id": "40b7a974",
   "metadata": {
    "colab": {
     "base_uri": "https://localhost:8080/"
    },
    "id": "8KqdiD127TdY",
    "outputId": "d9796b43-fed6-4ceb-edbf-67d0c5cec479",
    "scrolled": true
   },
   "outputs": [
    {
     "name": "stdout",
     "output_type": "stream",
     "text": [
      "+----------+------------------+-----------------------------+-------+\n",
      "|        dt|AverageTemperature|AverageTemperatureUncertainty|Country|\n",
      "+----------+------------------+-----------------------------+-------+\n",
      "|1743-11-01|4.3839999999999995|                        2.294|  Åland|\n",
      "|1743-12-01|              null|                         null|  Åland|\n",
      "|1744-01-01|              null|                         null|  Åland|\n",
      "|1744-02-01|              null|                         null|  Åland|\n",
      "|1744-03-01|              null|                         null|  Åland|\n",
      "|1744-04-01|              1.53|                         4.68|  Åland|\n",
      "|1744-05-01| 6.702000000000001|                        1.789|  Åland|\n",
      "|1744-06-01|11.609000000000002|                        1.577|  Åland|\n",
      "|1744-07-01|            15.342|                         1.41|  Åland|\n",
      "|1744-08-01|              null|                         null|  Åland|\n",
      "+----------+------------------+-----------------------------+-------+\n",
      "only showing top 10 rows\n",
      "\n"
     ]
    }
   ],
   "source": [
    "tempData.show(10)"
   ]
  },
  {
   "cell_type": "code",
   "execution_count": 8,
   "id": "096ae823",
   "metadata": {
    "colab": {
     "base_uri": "https://localhost:8080/"
    },
    "id": "qcYLU--DTajt",
    "outputId": "c545f32b-30f4-44a6-f3f5-8b8e898825f9",
    "scrolled": true
   },
   "outputs": [
    {
     "data": {
      "text/plain": [
       "DataFrame[dt: string, AverageTemperature: double, AverageTemperatureUncertainty: double, Country: string]"
      ]
     },
     "execution_count": 8,
     "metadata": {},
     "output_type": "execute_result"
    }
   ],
   "source": [
    "tempData.na.fill(value='0')"
   ]
  },
  {
   "cell_type": "code",
   "execution_count": 9,
   "id": "747ed8d7",
   "metadata": {
    "id": "r1cYhR-M_Ycg"
   },
   "outputs": [],
   "source": [
    "tempData.createOrReplaceTempView(\"Temperature\")"
   ]
  },
  {
   "cell_type": "code",
   "execution_count": 10,
   "id": "b0dddf9a",
   "metadata": {
    "colab": {
     "base_uri": "https://localhost:8080/"
    },
    "id": "0tltZ4-8_Y2u",
    "outputId": "ccebcd30-3e5b-4b1e-dd5f-24a4e052ffa9"
   },
   "outputs": [
    {
     "name": "stderr",
     "output_type": "stream",
     "text": [
      "                                                                                \r"
     ]
    },
    {
     "name": "stdout",
     "output_type": "stream",
     "text": [
      "+-------+-----------------+------------------+\n",
      "|Country|Year_Of_Occurence|AverageTemperature|\n",
      "+-------+-----------------+------------------+\n",
      "| Kuwait|             2012| 38.84200000000001|\n",
      "+-------+-----------------+------------------+\n",
      "\n"
     ]
    }
   ],
   "source": [
    "query_1 = spark.sql(\"\"\"\n",
    "SELECT \n",
    "  t1.Country,\n",
    "  YEAR(t1.dt) AS Year_Of_Occurence,\n",
    "  t1.AverageTemperature\n",
    "FROM\n",
    "  Temperature t1\n",
    "WHERE\n",
    "  AverageTemperature = (SELECT MAX(t2.AverageTemperature) FROM Temperature t2)\n",
    "\"\"\")\n",
    "\n",
    "query_1.show()"
   ]
  },
  {
   "cell_type": "code",
   "execution_count": 11,
   "id": "d4d79e6b",
   "metadata": {
    "colab": {
     "base_uri": "https://localhost:8080/"
    },
    "id": "TsdwE7l0_Y5z",
    "outputId": "12850cd8-9579-4b17-96a3-37b33bd934c0"
   },
   "outputs": [
    {
     "name": "stderr",
     "output_type": "stream",
     "text": [
      "                                                                                \r"
     ]
    },
    {
     "name": "stdout",
     "output_type": "stream",
     "text": [
      "+----------+------------------+------------------+-----------------------+\n",
      "|   Country|           Tempold|           TempNew|Absolute_Change_In_Temp|\n",
      "+----------+------------------+------------------+-----------------------+\n",
      "|    Kuwait|             12.02|         27.273375|     15.253375000000002|\n",
      "|   Ukraine|             1.898|10.913499999999999|                 9.0155|\n",
      "|Azerbaijan|             5.235|         14.173875|               8.938875|\n",
      "|   Moldova|3.4150000000000005|           11.9605|      8.545499999999999|\n",
      "|   Georgia|            2.3055|         10.686625|      8.381124999999999|\n",
      "|     Syria|12.096000000000002|20.021124999999998|      7.925124999999996|\n",
      "| Macedonia|             5.431|13.260124999999999|      7.829124999999999|\n",
      "|   Romania|              3.89|           11.6455|                 7.7555|\n",
      "|    Serbia|             5.151|         12.843625|               7.692625|\n",
      "|   Finland|            -3.571| 4.064125000000001|               7.635125|\n",
      "+----------+------------------+------------------+-----------------------+\n",
      "\n"
     ]
    }
   ],
   "source": [
    "query_2 = spark.sql(\"\"\"\n",
    "WITH cte1 AS (\n",
    "SELECT \n",
    "  t1.Country,\n",
    "  YEAR(t1.dt) AS Year_Of_Occurence,\n",
    "  AVG(t1.AverageTemperature) as Yearly_Average \n",
    "FROM\n",
    "  Temperature t1\n",
    "GROUP BY t1.Country, YEAR(t1.dt)\n",
    "ORDER BY t1.Country,Year_Of_Occurence),\n",
    "\n",
    "cte2 AS (\n",
    "SELECT \n",
    "  cte1.Country,\n",
    "  MIN(Year_Of_Occurence) as min_year,\n",
    "  MAX(Year_Of_Occurence) as max_year\n",
    "FROM\n",
    "  cte1\n",
    "GROUP BY cte1.Country),\n",
    "\n",
    "cte3 AS (\n",
    "SELECT \n",
    "  cte1.Country,\n",
    "  cte1.Year_Of_Occurence,\n",
    "  cte1.Yearly_Average \n",
    "FROM\n",
    "  cte1\n",
    "  JOIN cte2 ON cte1.Country = cte2.Country \n",
    "                AND cte1.Year_Of_Occurence = cte2.min_year\n",
    "),\n",
    "\n",
    "cte4 AS (\n",
    "SELECT \n",
    "  cte1.Country,\n",
    "  cte1.Year_Of_Occurence,\n",
    "  cte1.Yearly_Average \n",
    "FROM\n",
    "  cte1\n",
    "  JOIN cte2 ON cte1.Country = cte2.Country \n",
    "                AND cte1.Year_Of_Occurence = cte2.max_year\n",
    "),\n",
    "\n",
    "cte5 AS (\n",
    "SELECT\n",
    "  cte3.Country,\n",
    "  cte3.Yearly_Average as Tempold,\n",
    "  cte4.Yearly_Average as TempNew,\n",
    "  ABS(cte4.Yearly_Average - cte3.Yearly_Average) as Absolute_Change_In_Temp\n",
    "FROM\n",
    "  cte3\n",
    "  JOIN cte4 ON cte3.Country = cte4.Country\n",
    "ORDER BY Absolute_Change_In_Temp DESC LIMIT 10\n",
    ")\n",
    "\n",
    "SELECT * FROM cte5\n",
    "\n",
    "\"\"\")\n",
    "\n",
    "\n",
    "query_2.show()"
   ]
  },
  {
   "cell_type": "code",
   "execution_count": 13,
   "id": "7175c718",
   "metadata": {
    "colab": {
     "base_uri": "https://localhost:8080/"
    },
    "id": "eh3y_2y-Pmdy",
    "outputId": "168ed979-d02e-4467-a445-1092fa7b2abd"
   },
   "outputs": [
    {
     "name": "stderr",
     "output_type": "stream",
     "text": [
      "22/04/15 06:38:34 WARN org.apache.spark.sql.catalyst.util.package: Truncated the string representation of a plan since it was too large. This behavior can be adjusted by setting 'spark.sql.debug.maxToStringFields'.\n",
      "[Stage 25:>                                                         (0 + 1) / 1]\r"
     ]
    },
    {
     "name": "stdout",
     "output_type": "stream",
     "text": [
      "+--------------------+------------+-----------+-----------+-----------+-----------+-----------+-----------+-----------+-----------+-----------+-----------+-----------+-----------+-----------+-----------+-----------+-----------+-----------+-----------+-----------+-----------+-----------+-----------+-----------+-----------+-----------+-----------+-----------+-----------+-----------+-----------+-----------+-----------+-----------+-----------+-----------+-----------+-----------+-----------+-----------+-----------+-----------+-----------+-----------+-----------+-----------+-----------+-----------+-----------+-----------+-----------+-----------+-----------+-----------+-----------+-----------+----+----+----+----+\n",
      "|        Country Name|Country Code|       1960|       1961|       1962|       1963|       1964|       1965|       1966|       1967|       1968|       1969|       1970|       1971|       1972|       1973|       1974|       1975|       1976|       1977|       1978|       1979|       1980|       1981|       1982|       1983|       1984|       1985|       1986|       1987|       1988|       1989|       1990|       1991|       1992|       1993|       1994|       1995|       1996|       1997|       1998|       1999|       2000|       2001|       2002|       2003|       2004|       2005|       2006|       2007|       2008|       2009|       2010|       2011|       2012|       2013|       2014|2015|2016|2017|2018|\n",
      "+--------------------+------------+-----------+-----------+-----------+-----------+-----------+-----------+-----------+-----------+-----------+-----------+-----------+-----------+-----------+-----------+-----------+-----------+-----------+-----------+-----------+-----------+-----------+-----------+-----------+-----------+-----------+-----------+-----------+-----------+-----------+-----------+-----------+-----------+-----------+-----------+-----------+-----------+-----------+-----------+-----------+-----------+-----------+-----------+-----------+-----------+-----------+-----------+-----------+-----------+-----------+-----------+-----------+-----------+-----------+-----------+-----------+----+----+----+----+\n",
      "|               Aruba|         ABW|       null|       null|       null|       null|       null|       null|       null|       null|       null|       null|       null|       null|       null|       null|       null|       null|       null|       null|       null|       null|       null|       null|       null|       null|       null|       null|2.868319392|7.235198033|10.02617921| 10.6347326|26.37450321| 26.0461298| 21.4425588|22.00078616|21.03624511|20.77193616|20.31835337|20.42681771|20.58766915|20.31156677|26.19487524|25.93402441|25.67116178|26.42045209|26.51729342|27.20070778|26.94826047|  27.895574|26.23084664|25.91583295|24.67052887| 24.5058352|13.15554169|8.351294252|8.408362638|null|null|null|null|\n",
      "|         Afghanistan|         AFG|0.046059897|0.053604304|0.073764791|0.074232685|0.086292452|0.101467397|0.107636955|0.123734289| 0.11549774| 0.08682346|0.150290627|0.166042044| 0.13076385|0.136279785|0.155649444|0.168928649|0.154787206|0.182963616|0.163159571|0.168376671|0.132858608|0.151972881|0.164803883|0.203635582|0.234987713|0.297827727|0.270891121|0.271611659|0.248472561|0.235694613|0.213449805|0.187672724|0.099666474|0.089154036| 0.08003917|0.072698618|0.066044698|0.059648382| 0.05520717|0.042332597| 0.03850634|0.039002334|0.048715548|  0.0518296|0.039377828|0.052948215|0.063728472|0.085417506|0.154101422|0.241722682|0.293836994|0.412016938|0.350370581|0.315601773|0.299444991|null|null|null|null|\n",
      "|              Angola|         AGO|0.097471604|0.079038085|0.201289076|0.192534735|0.201003361|0.191528411|0.246412785|0.154911578|0.256315998|0.419550564|0.528697988|0.492302233|0.635214721|0.670624323|0.652023363|0.574693143|0.415850303|0.434755038|0.646179204|0.636944237|0.598717343|0.571201904|0.485251545|0.515071547|0.487395694|0.443121443|0.426768722|  0.5184278|0.445557344|0.423524277|0.420284254|0.405450105|0.400678653|0.430889258|0.281092579|0.769173426|0.712306341|0.489209377| 0.47137391|0.574083595|0.580352661|0.573047493|0.720768849|0.497975073|0.996165478|0.979740026|1.098883898|1.197843982|1.181526759|1.232494515|1.243405585|1.252789255|1.330843018|1.254617218|1.291328315|null|null|null|null|\n",
      "|             Albania|         ALB|1.258194928|1.374186047|1.439955964|1.181681144| 1.11174196|1.166099043|1.333055465|  1.3637463|1.519551277|1.558967572|1.753239905|1.989497923|2.515914398|2.303897417|1.849006691|1.910633637|2.013584562|2.275876391| 2.53062504|2.898208518| 1.93505831|2.693023914|2.624856785|2.683239919|2.694291374|2.658015382|2.665356221|2.414060815|2.331598531|2.783243075|1.678106654|  1.3122126|0.774724911|0.723790292|0.600203708|0.654537133|0.636625313| 0.49036506|0.560271437|0.960164412|0.978174681|1.053304176|1.229540709|1.412697196|1.376212735|1.412498211|1.302576367|1.322334855|1.484311139|1.495600199|1.578573584|1.803714725|1.692908325|1.749211079|1.978763312|null|null|null|null|\n",
      "|             Andorra|         AND|       null|       null|       null|       null|       null|       null|       null|       null|       null|       null|       null|       null|       null|       null|       null|       null|       null|       null|       null|       null|       null|       null|       null|       null|       null|       null|       null|       null|       null|       null|7.467335669|7.182456636|6.912053389|6.736054846|6.494200424|6.662051684|7.065071473|7.239712718|7.660783886|7.975454404|8.019284294|7.786950001|7.590615141|7.315760706|7.358624941|7.299871936|6.746218716|6.519465912|6.427886622|6.121652341|6.122594702|5.867129945|5.916596911|5.900752587|5.832169951|null|null|null|null|\n",
      "|          Arab World|         ARB|0.643689011|0.685150884|0.760854507|0.874941189|0.999097655|1.165705386|1.272650672|1.331404395|1.544942527|1.789913392|1.801245462|1.993486215|2.109871603|2.396799726|2.273440745|2.184263525|2.568710035|2.631628366| 2.74324133|2.842655116|3.069208819|2.907057909| 2.70111659|2.793356928|2.956318154|3.035558013|3.255536588|3.168821856|3.264489032|3.226127128|2.989008072|3.207224619|3.385246998| 3.63837855|3.644858894|3.398199765|3.304793683|3.124848492|3.329548276|3.309553392|3.684441272|3.590302965|3.588035581|3.779889011|4.051465169|4.168486256|4.268239866|4.100226273|4.390401434|4.542151451|4.615758201|4.537755236|4.813630727|4.650474168|4.860233832|null|null|null|null|\n",
      "|United Arab Emirates|         ARE|0.118757692| 0.10883674|0.163018351|0.175222592|0.132354958|0.146326865|0.159950399|5.383684807|6.785773552|100.6976695|64.74501378|75.98153209|70.48362784|77.12098728|66.46069916|56.05113796|61.29020795|51.84464328|52.58289939| 38.4518098|35.40411979|32.88162816|30.99646083|28.20499098|35.18821247|35.89096957| 32.0839896|30.55837249|29.21022992|31.02882617|27.95924521|28.93913532|27.86136845|  29.890451|31.40439759| 28.8469908|15.97008152|15.42443139| 28.7143215|26.22842771|35.67825923|30.49115342|24.15124891|28.55255307|27.70120802|25.36237265|23.63108943|22.43980121|22.82394719|21.90855608|19.44369027|19.07648878|19.81768422|18.95416379|23.30202251|null|null|null|null|\n",
      "|           Argentina|         ARG|2.367473032|2.442615898|2.522392105|2.316356332|2.538379303|2.641714344|2.792653799|2.858162297| 2.96985458|3.275850995|3.451159798|3.650078618|3.637858513|3.730791118|3.726698966|3.641822498|3.768774074|3.749871394|3.762750369|3.998733119|3.868853067|3.574967863|3.567086789|3.572042094|3.560142534| 3.31032707|   3.377245|3.669168725|3.820445568|3.629201904|3.426481983| 3.52770381|3.605749117|3.457164549|3.542095019|3.656645582|3.811457285|3.851202695|3.857870916|4.010698763|3.835573665|3.568599866|3.291547735| 3.52558427| 4.06905838|4.141236814|4.434821452|4.382668884|4.682912395|4.410889894|4.558499612|4.600290699|4.569383676|4.462903755|4.746797455|null|null|null|null|\n",
      "|             Armenia|         ARM|       null|       null|       null|       null|       null|       null|       null|       null|       null|       null|       null|       null|       null|       null|       null|       null|       null|       null|       null|       null|       null|       null|       null|       null|       null|       null|       null|       null|       null|       null|       null|       null|1.692473009|0.759983503|0.824155363| 1.05997746|0.809046419|1.032302975|1.081692124|0.975803629|1.128918604|1.161167684|1.003201493|1.136138307|1.214751524|1.460030477|1.481177962|1.726570171|1.911537642|1.509411878|1.465621895|1.710070765|1.976060074|1.899711734| 1.90275891|null|null|null|null|\n",
      "|      American Samoa|         ASM|       null|       null|       null|       null|       null|       null|       null|       null|       null|       null|       null|       null|       null|       null|       null|       null|       null|       null|       null|       null|       null|       null|       null|       null|       null|       null|       null|       null|       null|       null|       null|       null|       null|       null|       null|       null|       null|       null|       null|       null|       null|       null|       null|       null|       null|       null|       null|       null|       null|       null|       null|       null|       null|       null|       null|null|null|null|null|\n",
      "+--------------------+------------+-----------+-----------+-----------+-----------+-----------+-----------+-----------+-----------+-----------+-----------+-----------+-----------+-----------+-----------+-----------+-----------+-----------+-----------+-----------+-----------+-----------+-----------+-----------+-----------+-----------+-----------+-----------+-----------+-----------+-----------+-----------+-----------+-----------+-----------+-----------+-----------+-----------+-----------+-----------+-----------+-----------+-----------+-----------+-----------+-----------+-----------+-----------+-----------+-----------+-----------+-----------+-----------+-----------+-----------+-----------+----+----+----+----+\n",
      "only showing top 10 rows\n",
      "\n"
     ]
    },
    {
     "name": "stderr",
     "output_type": "stream",
     "text": [
      "\r",
      "                                                                                \r"
     ]
    }
   ],
   "source": [
    "CO2Data.show(10)"
   ]
  },
  {
   "cell_type": "code",
   "execution_count": 14,
   "id": "84ec54ce",
   "metadata": {
    "colab": {
     "base_uri": "https://localhost:8080/"
    },
    "id": "QEmM5en_QS04",
    "outputId": "de79fd42-a26a-41a6-d97e-2bbb4a7326ab"
   },
   "outputs": [
    {
     "name": "stderr",
     "output_type": "stream",
     "text": [
      "\r",
      "[Stage 27:>                                                         (0 + 1) / 1]\r"
     ]
    },
    {
     "name": "stdout",
     "output_type": "stream",
     "text": [
      "+--------------------+------------+----+-----------+\n",
      "|        Country Name|Country Code|Year|   Emission|\n",
      "+--------------------+------------+----+-----------+\n",
      "|               Aruba|         ABW|1960|        NaN|\n",
      "|         Afghanistan|         AFG|1960|0.046059897|\n",
      "|              Angola|         AGO|1960|0.097471604|\n",
      "|             Albania|         ALB|1960|1.258194928|\n",
      "|             Andorra|         AND|1960|        NaN|\n",
      "|          Arab World|         ARB|1960|0.643689011|\n",
      "|United Arab Emirates|         ARE|1960|0.118757692|\n",
      "|           Argentina|         ARG|1960|2.367473032|\n",
      "|             Armenia|         ARM|1960|        NaN|\n",
      "|      American Samoa|         ASM|1960|        NaN|\n",
      "+--------------------+------------+----+-----------+\n",
      "only showing top 10 rows\n",
      "\n"
     ]
    },
    {
     "name": "stderr",
     "output_type": "stream",
     "text": [
      "\r",
      "                                                                                \r"
     ]
    }
   ],
   "source": [
    "CO2_df = CO2Data.toPandas()\n",
    "CO2_df = pd.melt(CO2_df,id_vars=['Country Name', 'Country Code'], var_name='Year',value_name = 'Emission')\n",
    "CO2Data = spark.createDataFrame(CO2_df)\n",
    "CO2Data.show(10)"
   ]
  },
  {
   "cell_type": "code",
   "execution_count": 15,
   "id": "4bff4637",
   "metadata": {
    "colab": {
     "base_uri": "https://localhost:8080/"
    },
    "id": "TwUdgFWSbc3a",
    "outputId": "7cb236d3-15a8-48fb-a94a-9f634ea7b289"
   },
   "outputs": [
    {
     "name": "stdout",
     "output_type": "stream",
     "text": [
      "root\n",
      " |-- Country: string (nullable = true)\n",
      " |-- Country_Code: string (nullable = true)\n",
      " |-- Year: string (nullable = true)\n",
      " |-- Emission: double (nullable = true)\n",
      "\n"
     ]
    }
   ],
   "source": [
    "CO2Data = CO2Data.withColumnRenamed(\"Country Name\",\"Country\") \\\n",
    "    .withColumnRenamed(\"Country Code\",\"Country_Code\")\n",
    "CO2Data.printSchema()"
   ]
  },
  {
   "cell_type": "code",
   "execution_count": 16,
   "id": "9e6fffac",
   "metadata": {
    "colab": {
     "base_uri": "https://localhost:8080/"
    },
    "id": "fhAMQhoaX2RX",
    "outputId": "a755171e-df8e-4d54-c495-1051e61ec672"
   },
   "outputs": [
    {
     "name": "stdout",
     "output_type": "stream",
     "text": [
      "+--------------------+------------+----+-----------+\n",
      "|             Country|Country_Code|Year|   Emission|\n",
      "+--------------------+------------+----+-----------+\n",
      "|         Afghanistan|         AFG|1960|0.046059897|\n",
      "|              Angola|         AGO|1960|0.097471604|\n",
      "|             Albania|         ALB|1960|1.258194928|\n",
      "|          Arab World|         ARB|1960|0.643689011|\n",
      "|United Arab Emirates|         ARE|1960|0.118757692|\n",
      "|           Argentina|         ARG|1960|2.367473032|\n",
      "| Antigua and Barbuda|         ATG|1960|0.662642982|\n",
      "|           Australia|         AUS|1960|8.582936643|\n",
      "|             Austria|         AUT|1960|4.373318828|\n",
      "|             Belgium|         BEL|1960|9.941594074|\n",
      "|               Benin|         BEN|1960|0.066354063|\n",
      "|        Burkina Faso|         BFA|1960|0.009111902|\n",
      "|            Bulgaria|         BGR|1960|2.833901121|\n",
      "|             Bahrain|         BHR|1960|3.544478443|\n",
      "|        Bahamas, The|         BHS|1960|3.749762618|\n",
      "|              Belize|         BLZ|1960|0.477971846|\n",
      "|             Bermuda|         BMU|1960|3.551373874|\n",
      "|             Bolivia|         BOL|1960| 0.27203787|\n",
      "|              Brazil|         BRA|1960|0.649630979|\n",
      "|            Barbados|         BRB|1960|0.746296641|\n",
      "+--------------------+------------+----+-----------+\n",
      "only showing top 20 rows\n",
      "\n"
     ]
    }
   ],
   "source": [
    "CO2Data1 = CO2Data.na.drop(\"any\")\n",
    "CO2Data1.show()"
   ]
  },
  {
   "cell_type": "code",
   "execution_count": 17,
   "id": "dd8225da",
   "metadata": {
    "id": "erTQfgM1am5G"
   },
   "outputs": [],
   "source": [
    "CO2Data1.createOrReplaceTempView(\"CO2Data\")"
   ]
  },
  {
   "cell_type": "code",
   "execution_count": 18,
   "id": "02cc13b6",
   "metadata": {
    "colab": {
     "base_uri": "https://localhost:8080/"
    },
    "id": "YKjACBNFbzLk",
    "outputId": "b64323e9-1bf4-439f-9bce-3ce5dde92b84"
   },
   "outputs": [
    {
     "name": "stdout",
     "output_type": "stream",
     "text": [
      "root\n",
      " |-- Country: string (nullable = true)\n",
      " |-- Year_Of_Occurence: integer (nullable = true)\n",
      " |-- AverageTemperature: double (nullable = true)\n",
      "\n"
     ]
    }
   ],
   "source": [
    "query_1.printSchema()"
   ]
  },
  {
   "cell_type": "code",
   "execution_count": 19,
   "id": "722c24dd",
   "metadata": {
    "colab": {
     "base_uri": "https://localhost:8080/"
    },
    "id": "ztY_zManb85b",
    "outputId": "0189dfe6-0ab2-40ef-e63b-fda2d40c1781",
    "scrolled": true
   },
   "outputs": [
    {
     "name": "stdout",
     "output_type": "stream",
     "text": [
      "root\n",
      " |-- Country: string (nullable = true)\n",
      " |-- Country_Code: string (nullable = true)\n",
      " |-- Year: string (nullable = true)\n",
      " |-- Emission: double (nullable = true)\n",
      "\n"
     ]
    }
   ],
   "source": [
    "CO2Data1.printSchema()"
   ]
  },
  {
   "cell_type": "code",
   "execution_count": 20,
   "id": "7aa7b426",
   "metadata": {
    "colab": {
     "base_uri": "https://localhost:8080/"
    },
    "id": "79qA_ShKdFaN",
    "outputId": "ae443c03-99a8-47f1-e674-957fa67c0df2"
   },
   "outputs": [
    {
     "name": "stderr",
     "output_type": "stream",
     "text": [
      "[Stage 29:===========================================>              (3 + 1) / 4]\r"
     ]
    },
    {
     "name": "stdout",
     "output_type": "stream",
     "text": [
      "+-----------+-----------------+------------------+\n",
      "|    Country|Year_Of_Occurence|    Yearly_Average|\n",
      "+-----------+-----------------+------------------+\n",
      "|Afghanistan|             1838|18.379571428571428|\n",
      "|Afghanistan|             1839|              null|\n",
      "|Afghanistan|             1840|13.413454545454545|\n",
      "|Afghanistan|             1841|           13.9976|\n",
      "|Afghanistan|             1842| 15.15466666666667|\n",
      "|Afghanistan|             1843|          13.75625|\n",
      "|Afghanistan|             1844|13.148750000000001|\n",
      "|Afghanistan|             1845|13.305833333333332|\n",
      "|Afghanistan|             1846|14.030833333333332|\n",
      "|Afghanistan|             1847|13.475583333333335|\n",
      "+-----------+-----------------+------------------+\n",
      "only showing top 10 rows\n",
      "\n"
     ]
    },
    {
     "name": "stderr",
     "output_type": "stream",
     "text": [
      "\r",
      "                                                                                \r"
     ]
    }
   ],
   "source": [
    "\n",
    "query_3 = spark.sql(\"\"\"\n",
    "SELECT \n",
    "  t1.Country,\n",
    "  YEAR(t1.dt) AS Year_Of_Occurence,\n",
    "  AVG(t1.AverageTemperature) as Yearly_Average \n",
    "FROM\n",
    "  Temperature t1\n",
    "GROUP BY t1.Country, YEAR(t1.dt)\n",
    "ORDER BY t1.Country,Year_Of_Occurence\n",
    "\"\"\")\n",
    "\n",
    "query_3.show(10)"
   ]
  },
  {
   "cell_type": "code",
   "execution_count": 21,
   "id": "3174fb53",
   "metadata": {
    "id": "ndYbKg-mXv3u"
   },
   "outputs": [],
   "source": [
    "query_3.createOrReplaceTempView(\"Avg_Land_Temp\")"
   ]
  },
  {
   "cell_type": "code",
   "execution_count": 22,
   "id": "dc4d0c91",
   "metadata": {
    "colab": {
     "base_uri": "https://localhost:8080/"
    },
    "id": "dYShnrMUV01U",
    "outputId": "193192b5-08d4-46de-9236-683ba9df1d27"
   },
   "outputs": [
    {
     "name": "stderr",
     "output_type": "stream",
     "text": [
      "[Stage 35:>                                                         (0 + 1) / 1]\r"
     ]
    },
    {
     "name": "stdout",
     "output_type": "stream",
     "text": [
      "+--------------------+-----------------+------------------+--------------------+------------+----+-----------+\n",
      "|             Country|Year_Of_Occurence|    Yearly_Average|             Country|Country_Code|Year|   Emission|\n",
      "+--------------------+-----------------+------------------+--------------------+------------+----+-----------+\n",
      "|         Afghanistan|             1960|13.985416666666667|         Afghanistan|         AFG|1960|0.046059897|\n",
      "|              Angola|             1960|21.927083333333332|              Angola|         AGO|1960|0.097471604|\n",
      "|             Albania|             1960|13.335083333333332|             Albania|         ALB|1960|1.258194928|\n",
      "|United Arab Emirates|             1960|27.785666666666668|United Arab Emirates|         ARE|1960|0.118757692|\n",
      "|           Argentina|             1960| 14.99366666666667|           Argentina|         ARG|1960|2.367473032|\n",
      "|           Australia|             1960|21.210500000000003|           Australia|         AUS|1960|8.582936643|\n",
      "|             Austria|             1960| 6.527083333333334|             Austria|         AUT|1960|4.373318828|\n",
      "|             Belgium|             1960|           9.98875|             Belgium|         BEL|1960|9.941594074|\n",
      "|               Benin|             1960|27.203999999999997|               Benin|         BEN|1960|0.066354063|\n",
      "|        Burkina Faso|             1960|28.132083333333338|        Burkina Faso|         BFA|1960|0.009111902|\n",
      "+--------------------+-----------------+------------------+--------------------+------------+----+-----------+\n",
      "only showing top 10 rows\n",
      "\n"
     ]
    },
    {
     "name": "stderr",
     "output_type": "stream",
     "text": [
      "\r",
      "                                                                                \r"
     ]
    }
   ],
   "source": [
    "query_4 = spark.sql(\"\"\"\n",
    "SELECT \n",
    "  *\n",
    "FROM \n",
    "  Avg_Land_Temp a\n",
    "  JOIN CO2Data c ON a.Country = c.Country\n",
    "                    AND a.Year_Of_Occurence = c.Year\n",
    "WHERE\n",
    "  c.Year BETWEEN 1960 AND 2014\n",
    "\"\"\")\n",
    "\n",
    "query_4.show(10)"
   ]
  },
  {
   "cell_type": "code",
   "execution_count": 23,
   "id": "e41de122",
   "metadata": {
    "colab": {
     "base_uri": "https://localhost:8080/"
    },
    "id": "pW7RpeB4eOK2",
    "outputId": "d7f5dc38-2c7a-4a13-e126-e60b0c92e1c4",
    "scrolled": true
   },
   "outputs": [
    {
     "name": "stderr",
     "output_type": "stream",
     "text": [
      "\r",
      "[Stage 36:=============================>                            (2 + 2) / 4]\r",
      "\r",
      "                                                                                \r"
     ]
    },
    {
     "data": {
      "text/plain": [
       "-0.2344769655945819"
      ]
     },
     "execution_count": 23,
     "metadata": {},
     "output_type": "execute_result"
    }
   ],
   "source": [
    "query_4.stat.corr(\"Yearly_Average\",\"Emission\")"
   ]
  }
 ],
 "metadata": {
  "kernelspec": {
   "display_name": "PySpark",
   "language": "python",
   "name": "pyspark"
  },
  "language_info": {
   "codemirror_mode": {
    "name": "ipython",
    "version": 3
   },
   "file_extension": ".py",
   "mimetype": "text/x-python",
   "name": "python",
   "nbconvert_exporter": "python",
   "pygments_lexer": "ipython3",
   "version": "3.8.13"
  }
 },
 "nbformat": 4,
 "nbformat_minor": 5
}